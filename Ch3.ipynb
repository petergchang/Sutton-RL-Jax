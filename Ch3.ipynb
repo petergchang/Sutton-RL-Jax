{
  "cells": [
    {
      "cell_type": "markdown",
      "metadata": {
        "id": "dWH3EtHvJvQi"
      },
      "source": [
        "# 0. Imports"
      ]
    },
    {
      "cell_type": "code",
      "execution_count": null,
      "metadata": {
        "id": "LAKmBfwiJvQk"
      },
      "outputs": [],
      "source": [
        "from functools import partial\n",
        "\n",
        "import jax\n",
        "from jax import vmap\n",
        "from jax.lax import scan\n",
        "import jax.numpy as jnp\n",
        "import jax.random as jr\n",
        "import matplotlib.pyplot as plt"
      ]
    },
    {
      "cell_type": "markdown",
      "source": [
        "# 1. "
      ],
      "metadata": {
        "id": "giQomKxHJv2u"
      }
    }
  ],
  "metadata": {
    "kernelspec": {
      "display_name": ".rebayes_venv",
      "language": "python",
      "name": "python3"
    },
    "language_info": {
      "codemirror_mode": {
        "name": "ipython",
        "version": 3
      },
      "file_extension": ".py",
      "mimetype": "text/x-python",
      "name": "python",
      "nbconvert_exporter": "python",
      "pygments_lexer": "ipython3",
      "version": "3.10.6"
    },
    "orig_nbformat": 4,
    "colab": {
      "provenance": []
    }
  },
  "nbformat": 4,
  "nbformat_minor": 0
}